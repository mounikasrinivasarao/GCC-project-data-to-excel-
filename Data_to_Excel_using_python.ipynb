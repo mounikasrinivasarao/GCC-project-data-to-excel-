{
  "nbformat": 4,
  "nbformat_minor": 0,
  "metadata": {
    "colab": {
      "provenance": []
    },
    "kernelspec": {
      "name": "python3",
      "display_name": "Python 3"
    },
    "language_info": {
      "name": "python"
    }
  },
  "cells": [
    {
      "cell_type": "code",
      "source": [
        "import pandas as pd\n",
        "\n",
        "def get_input():\n",
        "    input_data = []\n",
        "    num_entries = int(input(\"Enter the number of entries: \"))\n",
        "    college_name = input(\"Enter College Name: \")\n",
        "\n",
        "    for i in range(num_entries):\n",
        "        name = input(\"Enter Name: \")\n",
        "        rollno = input(\"Enter rollno: \")\n",
        "        subject = input(\"Enter subject: \")\n",
        "        age = int(input(\"Enter Age: \"))\n",
        "        gender = input(\"Enter gender: \")\n",
        "        hostler_dayscolar = input(\"Enter hostler/dayscolar: \")\n",
        "        entry = {\n",
        "            \"College Name\": college_name,\n",
        "            \"Name\": name,\n",
        "            \"Roll No\": rollno,\n",
        "            \"Subject\": subject,\n",
        "            \"Age\": age,\n",
        "            \"Gender\": gender,\n",
        "            \"Hostler/Dayscolar\": hostler_dayscolar\n",
        "        }\n",
        "        input_data.append(entry)\n",
        "\n",
        "    return input_data\n",
        "\n",
        "def process_data(input_data):\n",
        "    # Add any processing steps you need here\n",
        "    return input_data\n",
        "\n",
        "def save_to_excel(data, file_name):\n",
        "    df = pd.DataFrame(data)\n",
        "    df.to_excel(file_name, index=False)\n",
        "    print(f\"Data successfully saved to {file_name}\")\n",
        "\n",
        "if __name__ == \"__main__\":\n",
        "    input_data = get_input()\n",
        "    processed_data = process_data(input_data)\n",
        "\n",
        "    # Provide the desired file name to store the data in Excel\n",
        "    output_file_name = \"output_data.xlsx\"\n",
        "    save_to_excel(processed_data, output_file_name)\n"
      ],
      "metadata": {
        "colab": {
          "base_uri": "https://localhost:8080/"
        },
        "id": "oOJ_l9PZTbus",
        "outputId": "bc046617-23ec-494b-c316-acd52ddb131e"
      },
      "execution_count": null,
      "outputs": [
        {
          "output_type": "stream",
          "name": "stdout",
          "text": [
            "Enter the number of entries: 3\n",
            "Enter College Name: kiew\n",
            "Enter Name: mounika\n",
            "Enter rollno: 21jn1a4582\n",
            "Enter subject: english\n",
            "Enter Age: 19\n",
            "Enter gender: female\n",
            "Enter hostler/dayscolar: hostler\n",
            "Enter Name: rohini\n",
            "Enter rollno: 21jn1a4576\n",
            "Enter subject: maths\n",
            "Enter Age: 19\n",
            "Enter gender: female\n",
            "Enter hostler/dayscolar: hostler\n",
            "Enter Name: anusha\n",
            "Enter rollno: 21jn1a4580\n",
            "Enter subject: social\n",
            "Enter Age: 20\n",
            "Enter gender: female\n",
            "Enter hostler/dayscolar: hostler\n",
            "Data successfully saved to output_data.xlsx\n"
          ]
        }
      ]
    }
  ]
}